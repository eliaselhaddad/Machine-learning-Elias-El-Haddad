{
 "cells": [
  {
   "cell_type": "code",
   "execution_count": 51,
   "metadata": {},
   "outputs": [],
   "source": [
    "# simple linear regression\n",
    "# steps:\n",
    "# 1. import libraries\n",
    "# 2. import dataset\n",
    "# 3. split dataset into training and test set\n",
    "# 4. fit simple linear regression to training set\n",
    "# 5. predict test set results\n",
    "# 6. visualize training set results\n",
    "# 7. visualize test set results\n",
    "\n",
    "# Multiple linear regression\n",
    "# steps:\n",
    "# 1. import libraries\n",
    "# 2. import dataset\n",
    "# 3. encode categorical data\n",
    "# 4. split dataset into training and test set\n",
    "# 5. fit multiple linear regression to training set\n",
    "# 6. predict test set results\n",
    "# 7. visualize training set results\n",
    "# 8. visualize test set results\n",
    "\n",
    "# Train|Test split\n",
    "# steps:\n",
    "# 1. import libraries\n",
    "# 2. import dataset\n",
    "# 3. split dataset into training and test set\n",
    "# 4. fit simple linear regression to training set\n",
    "# 5. predict test set results\n",
    "# 6. visualize training set results\n",
    "# 7. visualize test set results"
   ]
  },
  {
   "cell_type": "code",
   "execution_count": 52,
   "metadata": {},
   "outputs": [],
   "source": [
    "# Recap:\n",
    "# 1. we've started with simple linear regression\n",
    "# 2. then we have to minimize the error by using the least square method (OLS)\n",
    "# 3. we get the normal equation\n",
    "# 4. the normal equation works also for multiple linear regression (more features/ more predictors)\n",
    "# 5. we apply a dimensional analysis to see if it works on multiple linear regression\n",
    "# 6. we move to the train|test split to avoid data leakage\n",
    "# 7. after that we do a prediction x_test * estimated parameters\n",
    "# 8. then we finish by doing an evaluation of the model"
   ]
  },
  {
   "cell_type": "code",
   "execution_count": 53,
   "metadata": {},
   "outputs": [
    {
     "data": {
      "text/plain": [
       "4"
      ]
     },
     "execution_count": 53,
     "metadata": {},
     "output_type": "execute_result"
    }
   ],
   "source": [
    "a = lambda x: x**2\n",
    "# a is a function that takes a number and returns the square of that number\n",
    "# x is the input of the function\n",
    "# x**2 is the output of the function\n",
    "a(2) "
   ]
  },
  {
   "cell_type": "code",
   "execution_count": 54,
   "metadata": {},
   "outputs": [
    {
     "data": {
      "text/plain": [
       "array([ 0. ,  2.5,  5. ,  7.5, 10. ])"
      ]
     },
     "execution_count": 54,
     "metadata": {},
     "output_type": "execute_result"
    }
   ],
   "source": [
    "import numpy as np\n",
    "\n",
    "# linspace is a function that takes 3 arguments\n",
    "# 1. start\n",
    "# 2. stop\n",
    "# 3. number of points\n",
    "# linspace returns a list of evenly spaced numbers over a specified interval\n",
    "b = np.linspace(0, 10, 5) # 0 is the start, 10 is the stop, 5 is the number of points\n",
    "b"
   ]
  },
  {
   "cell_type": "code",
   "execution_count": 55,
   "metadata": {},
   "outputs": [
    {
     "name": "stdout",
     "output_type": "stream",
     "text": [
      "A is a (2, 2) matrix\n",
      "b is a (2,) vector\n",
      "x is a (2,) vector\n"
     ]
    },
    {
     "data": {
      "text/plain": [
       "array([1500.,  700.])"
      ]
     },
     "execution_count": 55,
     "metadata": {},
     "output_type": "execute_result"
    }
   ],
   "source": [
    "# linalg is a function that takes 2 arguments\n",
    "# 1. matrix\n",
    "# 2. vector\n",
    "# linalg returns the solution to a linear matrix equation\n",
    "# x = A^-1 * b (-1 is the inverse of the matrix)\n",
    "# A is the matrix\n",
    "# b is the vector\n",
    "# x is the solution\n",
    "A = np.array([[1, 1], [1.5, 4]])\n",
    "b = np.array([2200, 5050])\n",
    "x = np.linalg.solve(A, b)\n",
    "print(f'A is a {A.shape} matrix')\n",
    "print(f'b is a {b.shape} vector')\n",
    "print(f'x is a {x.shape} vector')   \n",
    "x"
   ]
  },
  {
   "cell_type": "code",
   "execution_count": 56,
   "metadata": {},
   "outputs": [],
   "source": [
    "# how to calculate beta_hat (the estimated parameters) in multiple linear regression using numpy (OLS)\n",
    "# beta_hat = np.linalg.inv(X.T @ X) @ X.T @ y \n",
    "# X is the matrix of features\n",
    "# y is the vector of dependent variable\n",
    "# beta_hat is the vector of estimated parameters"
   ]
  },
  {
   "cell_type": "code",
   "execution_count": 57,
   "metadata": {},
   "outputs": [
    {
     "name": "stdout",
     "output_type": "stream",
     "text": [
      "np.dot(a, b) = array([ 5, 11])\n",
      "np.dot(b, a) = array([ 7, 10])\n",
      "np.dot(a, a) = array([[ 7, 10],\n",
      "       [15, 22]])\n",
      "np.dot(b, b) = 5\n"
     ]
    }
   ],
   "source": [
    "# np.dot() is a function that takes 2 arguments\n",
    "# 1. matrix\n",
    "# 2. vector\n",
    "# np.dot() returns the dot product of two arrays\n",
    "\n",
    "# example:\n",
    "a = np.array([[1, 2], [3, 4]])\n",
    "b = np.array([1, 2])\n",
    "\n",
    "print(f'{np.dot(a, b) = }')\n",
    "print(f'{np.dot(b, a) = }')\n",
    "print(f'{np.dot(a, a) = }')\n",
    "print(f'{np.dot(b, b) = }')"
   ]
  },
  {
   "cell_type": "code",
   "execution_count": 58,
   "metadata": {},
   "outputs": [
    {
     "name": "stdout",
     "output_type": "stream",
     "text": [
      "a = array([1., 1., 1., 1., 1.])\n",
      "a.shape = (5,)\n",
      "b = array([0., 0., 0., 0., 0.])\n",
      "c = array([[1., 0.],\n",
      "       [1., 0.],\n",
      "       [1., 0.],\n",
      "       [1., 0.],\n",
      "       [1., 0.]])\n"
     ]
    }
   ],
   "source": [
    "# explain np.ones() and np.zeros()\n",
    "# np.ones() is a function that takes 1 argument\n",
    "# 1. number of rows\n",
    "# np.ones() returns a matrix of ones\n",
    "# example:\n",
    "a = np.ones(5)\n",
    "print(f'{a = }')\n",
    "print(f'{a.shape = }') \n",
    "b = np.zeros((5))\n",
    "print(f'{b = }') \n",
    "\n",
    "c = np.c_[a, b]\n",
    "print(f'{c = }')"
   ]
  },
  {
   "cell_type": "code",
   "execution_count": 59,
   "metadata": {},
   "outputs": [
    {
     "name": "stdout",
     "output_type": "stream",
     "text": [
      "a = array([[1.],\n",
      "       [1.],\n",
      "       [1.],\n",
      "       [1.],\n",
      "       [1.]])\n",
      "b = array([[0.],\n",
      "       [0.],\n",
      "       [0.],\n",
      "       [0.],\n",
      "       [0.]])\n",
      "c = array([[1., 0.],\n",
      "       [1., 0.],\n",
      "       [1., 0.],\n",
      "       [1., 0.],\n",
      "       [1., 0.]])\n"
     ]
    }
   ],
   "source": [
    "# reshape a and b to one dimension\n",
    "a = a.reshape(-1, 1) # -1 means that the number of rows is unknown, but the number of columns is 1\n",
    "b = b.reshape(-1, 1)\n",
    "print(f'{a = }')\n",
    "print(f'{b = }')\n",
    "\n",
    "# concatenate a and b\n",
    "c = np.c_[a, b]\n",
    "print(f'{c = }')"
   ]
  },
  {
   "cell_type": "code",
   "execution_count": 1,
   "metadata": {},
   "outputs": [
    {
     "data": {
      "text/plain": [
       "{'studentId': [1, 1, 2, 2, 3, 3],\n",
       " 'subject': ['Math', 'English', 'Math', 'English', 'Math', 'English'],\n",
       " 'grade': [90, 85, 78, 88, 92, 80]}"
      ]
     },
     "execution_count": 1,
     "metadata": {},
     "output_type": "execute_result"
    }
   ],
   "source": [
    "data = {\n",
    "    'studentId': [1, 1, 2, 2, 3, 3],\n",
    "    'subject': ['Math', 'English', 'Math', 'English', 'Math', 'English'],\n",
    "    'grade': [90, 85, 78, 88, 92, 80]\n",
    "}\n",
    "data"
   ]
  },
  {
   "cell_type": "code",
   "execution_count": 3,
   "metadata": {},
   "outputs": [
    {
     "data": {
      "text/html": [
       "<div>\n",
       "<style scoped>\n",
       "    .dataframe tbody tr th:only-of-type {\n",
       "        vertical-align: middle;\n",
       "    }\n",
       "\n",
       "    .dataframe tbody tr th {\n",
       "        vertical-align: top;\n",
       "    }\n",
       "\n",
       "    .dataframe thead th {\n",
       "        text-align: right;\n",
       "    }\n",
       "</style>\n",
       "<table border=\"1\" class=\"dataframe\">\n",
       "  <thead>\n",
       "    <tr style=\"text-align: right;\">\n",
       "      <th></th>\n",
       "      <th>studentId</th>\n",
       "      <th>subject</th>\n",
       "      <th>grade</th>\n",
       "    </tr>\n",
       "  </thead>\n",
       "  <tbody>\n",
       "    <tr>\n",
       "      <th>0</th>\n",
       "      <td>1</td>\n",
       "      <td>Math</td>\n",
       "      <td>90</td>\n",
       "    </tr>\n",
       "    <tr>\n",
       "      <th>1</th>\n",
       "      <td>1</td>\n",
       "      <td>English</td>\n",
       "      <td>85</td>\n",
       "    </tr>\n",
       "    <tr>\n",
       "      <th>2</th>\n",
       "      <td>2</td>\n",
       "      <td>Math</td>\n",
       "      <td>78</td>\n",
       "    </tr>\n",
       "    <tr>\n",
       "      <th>3</th>\n",
       "      <td>2</td>\n",
       "      <td>English</td>\n",
       "      <td>88</td>\n",
       "    </tr>\n",
       "    <tr>\n",
       "      <th>4</th>\n",
       "      <td>3</td>\n",
       "      <td>Math</td>\n",
       "      <td>92</td>\n",
       "    </tr>\n",
       "    <tr>\n",
       "      <th>5</th>\n",
       "      <td>3</td>\n",
       "      <td>English</td>\n",
       "      <td>80</td>\n",
       "    </tr>\n",
       "  </tbody>\n",
       "</table>\n",
       "</div>"
      ],
      "text/plain": [
       "   studentId  subject  grade\n",
       "0          1     Math     90\n",
       "1          1  English     85\n",
       "2          2     Math     78\n",
       "3          2  English     88\n",
       "4          3     Math     92\n",
       "5          3  English     80"
      ]
     },
     "execution_count": 3,
     "metadata": {},
     "output_type": "execute_result"
    }
   ],
   "source": [
    "import pandas as pd\n",
    "\n",
    "df = pd.DataFrame(data)\n",
    "df"
   ]
  },
  {
   "cell_type": "code",
   "execution_count": 8,
   "metadata": {},
   "outputs": [
    {
     "name": "stderr",
     "output_type": "stream",
     "text": [
      "C:\\Users\\hadda\\AppData\\Local\\Temp\\ipykernel_10892\\372866348.py:1: FutureWarning: The default value of numeric_only in DataFrameGroupBy.mean is deprecated. In a future version, numeric_only will default to False. Either specify numeric_only or select only columns which should be valid for the function.\n",
      "  avg_grade = df.groupby('studentId').mean()\n"
     ]
    },
    {
     "data": {
      "text/html": [
       "<div>\n",
       "<style scoped>\n",
       "    .dataframe tbody tr th:only-of-type {\n",
       "        vertical-align: middle;\n",
       "    }\n",
       "\n",
       "    .dataframe tbody tr th {\n",
       "        vertical-align: top;\n",
       "    }\n",
       "\n",
       "    .dataframe thead th {\n",
       "        text-align: right;\n",
       "    }\n",
       "</style>\n",
       "<table border=\"1\" class=\"dataframe\">\n",
       "  <thead>\n",
       "    <tr style=\"text-align: right;\">\n",
       "      <th></th>\n",
       "      <th>grade</th>\n",
       "    </tr>\n",
       "    <tr>\n",
       "      <th>studentId</th>\n",
       "      <th></th>\n",
       "    </tr>\n",
       "  </thead>\n",
       "  <tbody>\n",
       "    <tr>\n",
       "      <th>1</th>\n",
       "      <td>87.5</td>\n",
       "    </tr>\n",
       "    <tr>\n",
       "      <th>2</th>\n",
       "      <td>83.0</td>\n",
       "    </tr>\n",
       "    <tr>\n",
       "      <th>3</th>\n",
       "      <td>86.0</td>\n",
       "    </tr>\n",
       "  </tbody>\n",
       "</table>\n",
       "</div>"
      ],
      "text/plain": [
       "           grade\n",
       "studentId       \n",
       "1           87.5\n",
       "2           83.0\n",
       "3           86.0"
      ]
     },
     "execution_count": 8,
     "metadata": {},
     "output_type": "execute_result"
    }
   ],
   "source": [
    "avg_grade = df.groupby('studentId').mean()\n",
    "avg_grade"
   ]
  },
  {
   "cell_type": "code",
   "execution_count": 2,
   "metadata": {},
   "outputs": [
    {
     "data": {
      "text/html": [
       "<div>\n",
       "<style scoped>\n",
       "    .dataframe tbody tr th:only-of-type {\n",
       "        vertical-align: middle;\n",
       "    }\n",
       "\n",
       "    .dataframe tbody tr th {\n",
       "        vertical-align: top;\n",
       "    }\n",
       "\n",
       "    .dataframe thead th {\n",
       "        text-align: right;\n",
       "    }\n",
       "</style>\n",
       "<table border=\"1\" class=\"dataframe\">\n",
       "  <thead>\n",
       "    <tr style=\"text-align: right;\">\n",
       "      <th></th>\n",
       "      <th>A</th>\n",
       "      <th>B</th>\n",
       "    </tr>\n",
       "  </thead>\n",
       "  <tbody>\n",
       "    <tr>\n",
       "      <th>0</th>\n",
       "      <td>1</td>\n",
       "      <td>4</td>\n",
       "    </tr>\n",
       "    <tr>\n",
       "      <th>1</th>\n",
       "      <td>2</td>\n",
       "      <td>5</td>\n",
       "    </tr>\n",
       "    <tr>\n",
       "      <th>2</th>\n",
       "      <td>3</td>\n",
       "      <td>6</td>\n",
       "    </tr>\n",
       "  </tbody>\n",
       "</table>\n",
       "</div>"
      ],
      "text/plain": [
       "   A  B\n",
       "0  1  4\n",
       "1  2  5\n",
       "2  3  6"
      ]
     },
     "execution_count": 2,
     "metadata": {},
     "output_type": "execute_result"
    }
   ],
   "source": [
    "import pandas as pd\n",
    "\n",
    "# Create a small example DataFrame\n",
    "data = {'A': [1, 2, 3], 'B': [4, 5, 6]}\n",
    "example_df = pd.DataFrame(data)\n",
    "example_df"
   ]
  },
  {
   "cell_type": "code",
   "execution_count": 5,
   "metadata": {},
   "outputs": [
    {
     "data": {
      "text/plain": [
       "5"
      ]
     },
     "execution_count": 5,
     "metadata": {},
     "output_type": "execute_result"
    }
   ],
   "source": [
    "# Define a simple function that takes two arguments and returns their sum\n",
    "def add(a, b):\n",
    "    return a + b\n",
    "\n",
    "add(1, 4)"
   ]
  },
  {
   "cell_type": "code",
   "execution_count": 6,
   "metadata": {},
   "outputs": [
    {
     "data": {
      "text/html": [
       "<div>\n",
       "<style scoped>\n",
       "    .dataframe tbody tr th:only-of-type {\n",
       "        vertical-align: middle;\n",
       "    }\n",
       "\n",
       "    .dataframe tbody tr th {\n",
       "        vertical-align: top;\n",
       "    }\n",
       "\n",
       "    .dataframe thead th {\n",
       "        text-align: right;\n",
       "    }\n",
       "</style>\n",
       "<table border=\"1\" class=\"dataframe\">\n",
       "  <thead>\n",
       "    <tr style=\"text-align: right;\">\n",
       "      <th></th>\n",
       "      <th>A</th>\n",
       "      <th>B</th>\n",
       "      <th>C</th>\n",
       "    </tr>\n",
       "  </thead>\n",
       "  <tbody>\n",
       "    <tr>\n",
       "      <th>0</th>\n",
       "      <td>1</td>\n",
       "      <td>4</td>\n",
       "      <td>5</td>\n",
       "    </tr>\n",
       "    <tr>\n",
       "      <th>1</th>\n",
       "      <td>2</td>\n",
       "      <td>5</td>\n",
       "      <td>7</td>\n",
       "    </tr>\n",
       "    <tr>\n",
       "      <th>2</th>\n",
       "      <td>3</td>\n",
       "      <td>6</td>\n",
       "      <td>9</td>\n",
       "    </tr>\n",
       "  </tbody>\n",
       "</table>\n",
       "</div>"
      ],
      "text/plain": [
       "   A  B  C\n",
       "0  1  4  5\n",
       "1  2  5  7\n",
       "2  3  6  9"
      ]
     },
     "execution_count": 6,
     "metadata": {},
     "output_type": "execute_result"
    }
   ],
   "source": [
    "# Apply the function to each row of the DataFrame using a lambda function and axis=1\n",
    "example_df['C'] = example_df.apply(lambda row: add(row['A'], row['B']), axis=1) # axis=1 means that we apply the function to each row\n",
    "example_df"
   ]
  }
 ],
 "metadata": {
  "kernelspec": {
   "display_name": "Machine-learning-Elias-El-Haddad-LBeJrVzk",
   "language": "python",
   "name": "python3"
  },
  "language_info": {
   "codemirror_mode": {
    "name": "ipython",
    "version": 3
   },
   "file_extension": ".py",
   "mimetype": "text/x-python",
   "name": "python",
   "nbconvert_exporter": "python",
   "pygments_lexer": "ipython3",
   "version": "3.9.13"
  },
  "orig_nbformat": 4,
  "vscode": {
   "interpreter": {
    "hash": "f5dbdc07cdfabf7685b8e81fcbf7b528ea7a32a2dc0c6ee2c2b7601066ee2660"
   }
  }
 },
 "nbformat": 4,
 "nbformat_minor": 2
}
