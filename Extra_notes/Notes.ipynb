{
 "cells": [
  {
   "attachments": {},
   "cell_type": "markdown",
   "metadata": {},
   "source": [
    "<figure>\n",
    "   <img src=\"../Notes_data/001.png\"  alt='missing' width=\"800\"  >\n",
    "<figure/>"
   ]
  },
  {
   "attachments": {},
   "cell_type": "markdown",
   "metadata": {},
   "source": [
    "<figure>\n",
    "   <img src=\"../Notes_data/002.png\"  alt='missing' width=\"800\"  >\n",
    "<figure/>"
   ]
  },
  {
   "attachments": {},
   "cell_type": "markdown",
   "metadata": {},
   "source": [
    "<figure>\n",
    "   <img src=\"../Notes_data/003.png\"  alt='missing' width=\"800\"  >\n",
    "<figure/>"
   ]
  },
  {
   "attachments": {},
   "cell_type": "markdown",
   "metadata": {},
   "source": [
    "<figure>\n",
    "   <img src=\"../Notes_data/004.png\"  alt='missing' width=\"800\"  >\n",
    "<figure/>"
   ]
  },
  {
   "attachments": {},
   "cell_type": "markdown",
   "metadata": {},
   "source": [
    "<figure>\n",
    "   <img src=\"../Notes_data/005.png\"  alt='missing' width=\"800\"  >\n",
    "<figure/>"
   ]
  },
  {
   "attachments": {},
   "cell_type": "markdown",
   "metadata": {},
   "source": [
    "<figure>\n",
    "   <img src=\"../Notes_data/006.png\"  alt='missing' width=\"800\"  >\n",
    "<figure/>\n"
   ]
  },
  {
   "attachments": {},
   "cell_type": "markdown",
   "metadata": {},
   "source": [
    "<!-- <figure>\n",
    "   <img src=\"../Side_projects_data/005.png\"  alt='missing' width=\"800\"  >\n",
    "<figure/> -->"
   ]
  },
  {
   "attachments": {},
   "cell_type": "markdown",
   "metadata": {},
   "source": [
    "<figure>\n",
    "   <img src=\"../Notes_data/007.png\"  alt='missing' width=\"800\"  >\n",
    "<figure/>"
   ]
  },
  {
   "attachments": {},
   "cell_type": "markdown",
   "metadata": {},
   "source": [
    "<figure>\n",
    "   <img src=\"../Notes_data/008.png\"  alt='missing' width=\"800\"  >\n",
    "<figure/>"
   ]
  },
  {
   "attachments": {},
   "cell_type": "markdown",
   "metadata": {},
   "source": [
    "<figure>\n",
    "   <img src=\"../Notes_data/009.png\"  alt='missing' width=\"800\"  >\n",
    "<figure/>"
   ]
  },
  {
   "attachments": {},
   "cell_type": "markdown",
   "metadata": {},
   "source": [
    "<figure>\n",
    "   <img src=\"../Notes_data/010.png\"  alt='missing' width=\"800\"  >\n",
    "<figure/>"
   ]
  },
  {
   "attachments": {},
   "cell_type": "markdown",
   "metadata": {},
   "source": [
    "<figure>\n",
    "   <img src=\"../Notes_data/011.png\"  alt='missing' width=\"800\"  >\n",
    "<figure/>"
   ]
  },
  {
   "attachments": {},
   "cell_type": "markdown",
   "metadata": {},
   "source": [
    "<figure>\n",
    "   <img src=\"../Notes_data/012.png\"  alt='missing' width=\"800\"  >\n",
    "<figure/>"
   ]
  },
  {
   "attachments": {},
   "cell_type": "markdown",
   "metadata": {},
   "source": [
    "<figure>\n",
    "   <img src=\"../Notes_data/013.png\"  alt='missing' width=\"800\"  >\n",
    "<figure/>"
   ]
  },
  {
   "attachments": {},
   "cell_type": "markdown",
   "metadata": {},
   "source": [
    "<figure>\n",
    "   <img src=\"../Notes_data/014.png\"  alt='missing' width=\"800\"  >\n",
    "<figure/>"
   ]
  },
  {
   "attachments": {},
   "cell_type": "markdown",
   "metadata": {},
   "source": [
    "<figure>\n",
    "   <img src=\"../Notes_data/015.png\"  alt='missing' width=\"800\"  >\n",
    "<figure/>"
   ]
  },
  {
   "attachments": {},
   "cell_type": "markdown",
   "metadata": {},
   "source": [
    "<figure>\n",
    "   <img src=\"../Notes_data/016.png\"  alt='missing' width=\"800\"  >\n",
    "<figure/>"
   ]
  },
  {
   "attachments": {},
   "cell_type": "markdown",
   "metadata": {},
   "source": [
    "<figure>\n",
    "   <img src=\"../Notes_data/017.png\"  alt='missing' width=\"800\"  >\n",
    "<figure/>"
   ]
  },
  {
   "attachments": {},
   "cell_type": "markdown",
   "metadata": {},
   "source": [
    "<figure>\n",
    "   <img src=\"../Notes_data/018.png\"  alt='missing' width=\"800\"  >\n",
    "<figure/>"
   ]
  },
  {
   "attachments": {},
   "cell_type": "markdown",
   "metadata": {},
   "source": [
    "<figure>\n",
    "   <img src=\"../Notes_data/019.png\"  alt='missing' width=\"800\"  >\n",
    "<figure/>"
   ]
  }
 ],
 "metadata": {
  "kernelspec": {
   "display_name": "Machine-learning-Elias-El-Haddad-LBeJrVzk",
   "language": "python",
   "name": "python3"
  },
  "language_info": {
   "codemirror_mode": {
    "name": "ipython",
    "version": 3
   },
   "file_extension": ".py",
   "mimetype": "text/x-python",
   "name": "python",
   "nbconvert_exporter": "python",
   "pygments_lexer": "ipython3",
   "version": "3.9.13"
  },
  "orig_nbformat": 4,
  "vscode": {
   "interpreter": {
    "hash": "f5dbdc07cdfabf7685b8e81fcbf7b528ea7a32a2dc0c6ee2c2b7601066ee2660"
   }
  }
 },
 "nbformat": 4,
 "nbformat_minor": 2
}
