{
 "cells": [
  {
   "cell_type": "code",
   "execution_count": null,
   "metadata": {},
   "outputs": [],
   "source": [
    "# simple linear regression\n",
    "# steps:\n",
    "# 1. import libraries\n",
    "# 2. import dataset\n",
    "# 3. split dataset into training and test set\n",
    "# 4. fit simple linear regression to training set\n",
    "# 5. predict test set results\n",
    "# 6. visualize training set results\n",
    "# 7. visualize test set results\n",
    "\n",
    "# Multiple linear regression\n",
    "# steps:\n",
    "# 1. import libraries\n",
    "# 2. import dataset\n",
    "# 3. encode categorical data\n",
    "# 4. split dataset into training and test set\n",
    "# 5. fit multiple linear regression to training set\n",
    "# 6. predict test set results\n",
    "# 7. visualize training set results\n",
    "# 8. visualize test set results\n",
    "\n",
    "# Train|Test split\n",
    "# steps:\n",
    "# 1. import libraries\n",
    "# 2. import dataset\n",
    "# 3. split dataset into training and test set\n",
    "# 4. fit simple linear regression to training set\n",
    "# 5. predict test set results\n",
    "# 6. visualize training set results\n",
    "# 7. visualize test set results"
   ]
  },
  {
   "cell_type": "code",
   "execution_count": null,
   "metadata": {},
   "outputs": [],
   "source": [
    "# Recap:\n",
    "# 1. we've started with simple linear regression\n",
    "# 2. then we have to minimize the error by using the least square method (OLS)\n",
    "# 3. we get the normal equation\n",
    "# 4. the normal equation works also for multiple linear regression (more features/ more predictors)\n",
    "# 5. we apply a dimensional analysis to see if it works on multiple linear regression\n",
    "# 6. we move to the train|test split to avoid data leakage\n",
    "# 7. after that we do a prediction x_test * estimated parameters\n",
    "# 8. then we finish by doing an evaluation of the model"
   ]
  },
  {
   "cell_type": "code",
   "execution_count": 85,
   "metadata": {},
   "outputs": [
    {
     "data": {
      "text/plain": [
       "4"
      ]
     },
     "execution_count": 85,
     "metadata": {},
     "output_type": "execute_result"
    }
   ],
   "source": [
    "a = lambda x: x**2\n",
    "# a is a function that takes a number and returns the square of that number\n",
    "# x is the input of the function\n",
    "# x**2 is the output of the function\n",
    "a(2) "
   ]
  },
  {
   "cell_type": "code",
   "execution_count": 87,
   "metadata": {},
   "outputs": [
    {
     "data": {
      "text/plain": [
       "array([ 0. ,  2.5,  5. ,  7.5, 10. ])"
      ]
     },
     "execution_count": 87,
     "metadata": {},
     "output_type": "execute_result"
    }
   ],
   "source": [
    "import numpy as np\n",
    "\n",
    "# linspace is a function that takes 3 arguments\n",
    "# 1. start\n",
    "# 2. stop\n",
    "# 3. number of points\n",
    "# linspace returns a list of evenly spaced numbers over a specified interval\n",
    "b = np.linspace(0, 10, 5) # 0 is the start, 10 is the stop, 5 is the number of points\n",
    "b"
   ]
  },
  {
   "cell_type": "code",
   "execution_count": 95,
   "metadata": {},
   "outputs": [
    {
     "name": "stdout",
     "output_type": "stream",
     "text": [
      "A is a (2, 2) matrix\n",
      "b is a (2,) vector\n",
      "x is a (2,) vector\n"
     ]
    },
    {
     "data": {
      "text/plain": [
       "array([1500.,  700.])"
      ]
     },
     "execution_count": 95,
     "metadata": {},
     "output_type": "execute_result"
    }
   ],
   "source": [
    "# linalg is a function that takes 2 arguments\n",
    "# 1. matrix\n",
    "# 2. vector\n",
    "# linalg returns the solution to a linear matrix equation\n",
    "# x = A^-1 * b (-1 is the inverse of the matrix)\n",
    "# A is the matrix\n",
    "# b is the vector\n",
    "# x is the solution\n",
    "A = np.array([[1, 1], [1.5, 4]])\n",
    "b = np.array([2200, 5050])\n",
    "x = np.linalg.solve(A, b)\n",
    "print(f'A is a {A.shape} matrix')\n",
    "print(f'b is a {b.shape} vector')\n",
    "print(f'x is a {x.shape} vector')   \n",
    "x"
   ]
  },
  {
   "cell_type": "code",
   "execution_count": null,
   "metadata": {},
   "outputs": [],
   "source": [
    "# how to calculate beta_hat (the estimated parameters) in multiple linear regression using numpy (OLS)\n",
    "# beta_hat = np.linalg.inv(X.T @ X) @ X.T @ y \n",
    "# X is the matrix of features\n",
    "# y is the vector of dependent variable\n",
    "# beta_hat is the vector of estimated parameters"
   ]
  },
  {
   "cell_type": "code",
   "execution_count": 104,
   "metadata": {},
   "outputs": [
    {
     "name": "stdout",
     "output_type": "stream",
     "text": [
      "a = array([[1, 2],\n",
      "       [3, 4]])\n",
      "np.dot(a, b) = array([ 5, 11])\n",
      "np.dot(b, a) = array([ 7, 10])\n",
      "np.dot(a, a) = array([[ 7, 10],\n",
      "       [15, 22]])\n",
      "np.dot(b, b) = 5\n"
     ]
    }
   ],
   "source": [
    "# explain np.dot() with a simple example\n",
    "# np.dot() is a function that takes 2 arguments\n",
    "# 1. matrix\n",
    "# 2. vector\n",
    "# np.dot() returns the dot product of two arrays\n",
    "\n",
    "# example:\n",
    "a = np.array([[1, 2], [3, 4]])\n",
    "b = np.array([1, 2])\n",
    "\n",
    "print(f'{np.dot(a, b) = }')\n",
    "print(f'{np.dot(b, a) = }')\n",
    "print(f'{np.dot(a, a) = }')\n",
    "print(f'{np.dot(b, b) = }')"
   ]
  }
 ],
 "metadata": {
  "kernelspec": {
   "display_name": "Machine-learning-Elias-El-Haddad-LBeJrVzk",
   "language": "python",
   "name": "python3"
  },
  "language_info": {
   "codemirror_mode": {
    "name": "ipython",
    "version": 3
   },
   "file_extension": ".py",
   "mimetype": "text/x-python",
   "name": "python",
   "nbconvert_exporter": "python",
   "pygments_lexer": "ipython3",
   "version": "3.9.13"
  },
  "orig_nbformat": 4,
  "vscode": {
   "interpreter": {
    "hash": "f5dbdc07cdfabf7685b8e81fcbf7b528ea7a32a2dc0c6ee2c2b7601066ee2660"
   }
  }
 },
 "nbformat": 4,
 "nbformat_minor": 2
}
